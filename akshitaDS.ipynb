{
  "nbformat": 4,
  "nbformat_minor": 0,
  "metadata": {
    "colab": {
      "provenance": []
    },
    "kernelspec": {
      "name": "python3",
      "display_name": "Python 3"
    },
    "language_info": {
      "name": "python"
    }
  },
  "cells": [
    {
      "cell_type": "code",
      "execution_count": null,
      "metadata": {
        "id": "rq6IDTLIAWGF"
      },
      "outputs": [],
      "source": []
    },
    {
      "cell_type": "markdown",
      "source": [
        "#DATA STRUCTURES\n",
        "#THEORITICAL QUESTIONS\n",
        "Q1:What are data structures, and why are they important?\n",
        "\n",
        "A1: Data structure is the way of storing and organizing data. Its importance is that it can make the data be accessed and manipulated efficiently.\n",
        "\n",
        "Q2: Explain the difference between mutable and immutable data types with examples?\n",
        "\n",
        "A2:In mutable data types, the data can be changed/altered at the place. for example-list, dictionary, set etc.\n",
        "\n",
        "In immutable data types, the data cant be changed at the place after creation.\n",
        "for example- tuple, strings etc.\n",
        "\n",
        "Q3:What are the main differences between lists and tuples in Python\n",
        "\n",
        "A3: lists are mutable whereas tuples are immutable\n",
        "lists syntax use [] while tuples use ()\n",
        "\n",
        "Q4:Describe how dictionaries store data\n",
        "\n",
        "A4: dictionaries store data in the form of key:value pair.\n",
        "eg.={'name':'akshita','place':'paris'}\n",
        "\n",
        "Q5:Why might you use a set instead of a list in Python\n",
        "\n",
        "A5:beacuse set gives unique values- also during the union(addition of 2 sets), it defaultly avoids adding the repeated value in the set.\n",
        "\n",
        "Q6:What is a string in Python, and how is it different from a list\n",
        "\n",
        "A6:a string is immutable while a list is mutable.\n",
        "a string is a collection of sharacters together within quotes'' or \"\".\n",
        "a list has different elements that may (or may not)be a collection of various string(s) and they are bound by the [] brackets.\n",
        "\n",
        "Q7: How do tuples ensure data integrity in Python\n",
        "\n",
        "A7: tuples ensure integrity in python through their property of bein immutable,i.e.,you can't modify them once they've been created unlike the lists.\n",
        "\n",
        "Q8:What is a hash table, and how does it relate to dictionaries in Python\n",
        "\n",
        "A8:a hash table is a data structure that store the values in the dictionary using the key-value pair. they are fastly found, inserted and modified\n",
        "\n",
        "Q9: Can lists contain different data types in Python\n",
        "\n",
        "A9: yes, lists can surely contain different data types in python as it is heterogeneuous in nature.\n",
        "\n",
        "Q10:Explain why strings are immutable in Python\n",
        "\n",
        "A10: to keep the string safe from any accidental data changes.\n",
        "\n",
        "Q11:What advantages do dictionaries offer over lists for certain tasks\n",
        "\n",
        "A11:\n",
        "1. dictionaries help find data easily by the help of keys that lists dont have.\n",
        "2. dictionaries have unique values making it simple unlike the lists that have duplicate values\n",
        "3. you can easily update the values of the dictionaries without calculating/knowing the index\n",
        "\n",
        "Q12:Describe a scenario where using a tuple would be preferable over a list\n",
        "\n",
        "A12:we want to use tuple where we dont want any accidental data changes in our code.\n",
        "for eaxample- enter/ storing a persons date of birth. we dont want it to be accidentally changed or we won't be needing to change it in future, it is one time entry.\n",
        "\n",
        "Q13:How do sets handle duplicate values in Python\n",
        "\n",
        "A13: sets do not allow the duplicates in them,they have the unique values.if we have data where we are having any duplicates, the set will automatically remove the duplicate value, while adding the single new value.\n",
        "\n",
        "Q14: How does the “in” keyword work differently for lists and dictionaries\n",
        "\n",
        "A14:the 'in' keyword, for the output, checks the specific element in the list, while it checks  for the specific key in the dictionary to get the desired value in the pair.\n",
        "\n",
        "Q15:Can you modify the elements of a tuple? Explain why or why not\n",
        "\n",
        "A15:NO,we can't modify the elements of tuple in python because of its property of being immutable,i.e., when a tuple is once created it cant be modified anyhow.\n",
        "\n",
        "Q16: What is a nested dictionary, and give an example of its use case\n",
        "\n",
        "A16:in a nested dictionary, the values of the dictionary can themselves be a dictionary. a use case can be-"
      ],
      "metadata": {
        "id": "Zo4dzZIrAYqS"
      }
    },
    {
      "cell_type": "code",
      "source": [
        "#EXAMPLE OF Q16\n",
        "phonebook={\n",
        "        \"emily\":{\n",
        "        \"phone no\":123456,\n",
        "        \"place\":\"paris\",\n",
        "        },\n",
        "        \"john\":{\n",
        "        \"phone no\":456789,\n",
        "        \"place\":\"luxembourg\",\n",
        "        },\n",
        "        \"selena\":{\n",
        "        \"phone no\":912456,\n",
        "        \"place\":\"lyon\",\n",
        "        },\n",
        "        }\n",
        "print(phonebook[\"selena\"][\"place\"])"
      ],
      "metadata": {
        "colab": {
          "base_uri": "https://localhost:8080/"
        },
        "id": "UDQRrINBjwQu",
        "outputId": "f546e815-ec0f-49dd-b044-9acc890e7bc1"
      },
      "execution_count": 136,
      "outputs": [
        {
          "output_type": "stream",
          "name": "stdout",
          "text": [
            "lyon\n"
          ]
        }
      ]
    },
    {
      "cell_type": "markdown",
      "source": [
        "Q17: Describe the time complexity of accessing elements in a dictionary\n",
        "\n",
        "A17:average case:fast direct access using keys\n",
        "worst case:rare due to hash collisions\n",
        "keys must be hashable\n",
        "it uses hash table\n",
        "\n",
        "Q18:In what situations are lists preferred over dictionaries\n",
        "\n",
        "A18: lists are preffered over dictionaries when:\n",
        "1. we want oredered data\n",
        "2. when we want to access the elements through indexing\n",
        "3. when the duplicates of any elemts are required/allowed\n",
        "4. when the collection we want is not much complex and rather a simple one.\n",
        "\n",
        "Q19: Why are dictionaries considered unordered, and how does that affect data retrieval\n",
        "\n",
        "A19: there is no position based access for the elements of a dictionary.\n",
        "affects:\n",
        "1. we cant retrieve data through indexing\n",
        "2. we must use key for retrieval\n",
        "3. dictionaries cant be used for order sensitive data\n",
        "\n",
        "Q20: Explain the difference between a list and a dictionary in terms of data retrieval\n",
        "\n",
        "A20:\n",
        "list:\n",
        "1. retrieval is done through indexing\n",
        "2. ordered collection\n",
        "3. ordered data/sequences\n",
        "dictionary:\n",
        "1. retrieval is done through specifying the key\n",
        "2. key-value mapping/hash table\n",
        "3. quick lookup by key"
      ],
      "metadata": {
        "id": "3ifArUwwjxTa"
      }
    },
    {
      "cell_type": "markdown",
      "source": [
        "#PRACTICAL QUESTIONS"
      ],
      "metadata": {
        "id": "DbFiYYwtoX3e"
      }
    },
    {
      "cell_type": "code",
      "source": [
        "#Q1 Write a code to create a string with your name and print it.\n",
        "name=str(input(\"enter your name:\"))\n",
        "print(\"name of the user= \",name)"
      ],
      "metadata": {
        "colab": {
          "base_uri": "https://localhost:8080/"
        },
        "id": "wlaI7wK5KbTl",
        "outputId": "d63d8f71-3940-41f0-a3f6-f9db3cefee9e"
      },
      "execution_count": 96,
      "outputs": [
        {
          "output_type": "stream",
          "name": "stdout",
          "text": [
            "enter your name:akshita\n",
            "name of the user=  akshita\n"
          ]
        }
      ]
    },
    {
      "cell_type": "code",
      "source": [
        "#Q2 Write a code to find the length of the string \"Hello World\"\n",
        "string=\"hello world\"\n",
        "print(len(string))"
      ],
      "metadata": {
        "colab": {
          "base_uri": "https://localhost:8080/"
        },
        "id": "_YwEHHloKkQ4",
        "outputId": "7f094cb0-d679-4f33-fe9b-7548d31e8ad5"
      },
      "execution_count": 97,
      "outputs": [
        {
          "output_type": "stream",
          "name": "stdout",
          "text": [
            "11\n"
          ]
        }
      ]
    },
    {
      "cell_type": "code",
      "source": [
        "#Q3Write a code to slice the first 3 characters from the string \"Python Programming\"\n",
        "string=\"Python Programming\"\n",
        "print(string[0:3])"
      ],
      "metadata": {
        "colab": {
          "base_uri": "https://localhost:8080/"
        },
        "id": "TZ53r3gUKwlp",
        "outputId": "45231a9f-a262-4f93-81d2-50173fe74b98"
      },
      "execution_count": 98,
      "outputs": [
        {
          "output_type": "stream",
          "name": "stdout",
          "text": [
            "Pyt\n"
          ]
        }
      ]
    },
    {
      "cell_type": "code",
      "source": [
        "#Q4 Write a code to convert the string \"hello\" to uppercase\n",
        "string=\"hello\"\n",
        "string.upper()"
      ],
      "metadata": {
        "colab": {
          "base_uri": "https://localhost:8080/",
          "height": 36
        },
        "id": "DbEBqTEXLHu-",
        "outputId": "3aa0d82d-55f0-40ba-9350-cb0909f80196"
      },
      "execution_count": 99,
      "outputs": [
        {
          "output_type": "execute_result",
          "data": {
            "text/plain": [
              "'HELLO'"
            ],
            "application/vnd.google.colaboratory.intrinsic+json": {
              "type": "string"
            }
          },
          "metadata": {},
          "execution_count": 99
        }
      ]
    },
    {
      "cell_type": "code",
      "source": [
        "#Q5 Write a code to replace the word \"apple\" with \"orange\" in the string \"I like apple\"\n",
        "string=\"I like apple\"\n",
        "string.replace(\"apple\",\"orange\")"
      ],
      "metadata": {
        "colab": {
          "base_uri": "https://localhost:8080/",
          "height": 36
        },
        "id": "xpeK-7mrLVCb",
        "outputId": "b1a58fa3-2d74-45dc-f137-a6f5ac09154e"
      },
      "execution_count": 100,
      "outputs": [
        {
          "output_type": "execute_result",
          "data": {
            "text/plain": [
              "'I like orange'"
            ],
            "application/vnd.google.colaboratory.intrinsic+json": {
              "type": "string"
            }
          },
          "metadata": {},
          "execution_count": 100
        }
      ]
    },
    {
      "cell_type": "code",
      "source": [
        "#Q6 Write a code to create a list with numbers 1 to 5 and print it\n",
        "l1=[1,2,3,4,5]\n",
        "for i in l1:\n",
        "  print(i)\n",
        "  i+=1"
      ],
      "metadata": {
        "colab": {
          "base_uri": "https://localhost:8080/"
        },
        "id": "j4_31NuvLjcI",
        "outputId": "de96dcac-f660-4165-ae37-d17fd5d30764"
      },
      "execution_count": 101,
      "outputs": [
        {
          "output_type": "stream",
          "name": "stdout",
          "text": [
            "1\n",
            "2\n",
            "3\n",
            "4\n",
            "5\n"
          ]
        }
      ]
    },
    {
      "cell_type": "code",
      "source": [
        "#Q7 Write a code to append the number 10 to the list [1, 2, 3, 4]\n",
        "list2=[1, 2, 3, 4]\n",
        "list2.append(10)\n",
        "print(list2)"
      ],
      "metadata": {
        "colab": {
          "base_uri": "https://localhost:8080/"
        },
        "id": "IAfI7hLPLyOe",
        "outputId": "e3c85c2d-2868-44e7-887a-dd84c5fe075e"
      },
      "execution_count": 102,
      "outputs": [
        {
          "output_type": "stream",
          "name": "stdout",
          "text": [
            "[1, 2, 3, 4, 10]\n"
          ]
        }
      ]
    },
    {
      "cell_type": "code",
      "source": [
        "#Q8 Write a code to remove the number 3 from the list [1, 2, 3, 4, 5]\n",
        "list2=[1, 2, 3, 4, 5]\n",
        "list2.remove(3)\n",
        "print(list2)"
      ],
      "metadata": {
        "colab": {
          "base_uri": "https://localhost:8080/"
        },
        "id": "LWZRvbFDMBMj",
        "outputId": "282e96dc-99c0-4f06-f06f-f19944b30e87"
      },
      "execution_count": 103,
      "outputs": [
        {
          "output_type": "stream",
          "name": "stdout",
          "text": [
            "[1, 2, 4, 5]\n"
          ]
        }
      ]
    },
    {
      "cell_type": "code",
      "source": [
        "#Q9 Write a code to access the second element in the list ['a', 'b', 'c', 'd']\n",
        "l=['a','b','c','d']\n",
        "print(\"the second element of the list is\",l[1])"
      ],
      "metadata": {
        "colab": {
          "base_uri": "https://localhost:8080/"
        },
        "id": "ajmkV2xoMO_f",
        "outputId": "4816b4bb-581e-4e7c-d5a1-e2116f145c0b"
      },
      "execution_count": 104,
      "outputs": [
        {
          "output_type": "stream",
          "name": "stdout",
          "text": [
            "the second element of the list is b\n"
          ]
        }
      ]
    },
    {
      "cell_type": "code",
      "source": [
        "#Q10 Write a code to reverse the list [10, 20, 30, 40, 50]\n",
        "lt=[10,20,30,40,50]\n",
        "print(lt[::-1])"
      ],
      "metadata": {
        "colab": {
          "base_uri": "https://localhost:8080/"
        },
        "id": "7qYKTT3_Mi4Z",
        "outputId": "00798b3f-581a-4fe0-d061-189c43b57cef"
      },
      "execution_count": 105,
      "outputs": [
        {
          "output_type": "stream",
          "name": "stdout",
          "text": [
            "[50, 40, 30, 20, 10]\n"
          ]
        }
      ]
    },
    {
      "cell_type": "code",
      "source": [
        "#Q11 Write a code to create a tuple with the elements 100, 200, 300 and print it\n",
        "t=(100,200,300)\n",
        "print(t)\n",
        "type(t)"
      ],
      "metadata": {
        "colab": {
          "base_uri": "https://localhost:8080/"
        },
        "id": "mG3HzSO6M7Gq",
        "outputId": "8615524f-646e-4ef6-8b24-3b240d42ea2c"
      },
      "execution_count": 106,
      "outputs": [
        {
          "output_type": "stream",
          "name": "stdout",
          "text": [
            "(100, 200, 300)\n"
          ]
        },
        {
          "output_type": "execute_result",
          "data": {
            "text/plain": [
              "tuple"
            ]
          },
          "metadata": {},
          "execution_count": 106
        }
      ]
    },
    {
      "cell_type": "code",
      "source": [
        "#Q12 Write a code to access the second-to-last element of the tuple ('red', 'green', 'blue', 'yellow')\n",
        "tupl=('red','green','blue','yellow')\n",
        "print(\"the second-to-last element of the tuple is:\", tupl[-2])"
      ],
      "metadata": {
        "colab": {
          "base_uri": "https://localhost:8080/"
        },
        "id": "ifbrgrYtNJh4",
        "outputId": "1fed4674-a96d-4db6-bc75-8a4236f84d2a"
      },
      "execution_count": 107,
      "outputs": [
        {
          "output_type": "stream",
          "name": "stdout",
          "text": [
            "the second-to-last element of the tuple is: blue\n"
          ]
        }
      ]
    },
    {
      "cell_type": "code",
      "source": [
        "#Q13 Write a code to find the minimum number in the tuple (10, 20, 5, 15)\n",
        "tup1=(10,20,5,15)\n",
        "print(min(tup1))"
      ],
      "metadata": {
        "colab": {
          "base_uri": "https://localhost:8080/"
        },
        "id": "vhjpQ1kmP58c",
        "outputId": "89938949-73d5-4e62-fc49-4ccbbd7d74f0"
      },
      "execution_count": 108,
      "outputs": [
        {
          "output_type": "stream",
          "name": "stdout",
          "text": [
            "5\n"
          ]
        }
      ]
    },
    {
      "cell_type": "code",
      "source": [
        "#Q14 Write a code to find the index of the element \"cat\" in the tuple ('dog', 'cat', 'rabbit')\n",
        "tup=('dog','cat','rabbit')\n",
        "print(tup.index('cat'))"
      ],
      "metadata": {
        "colab": {
          "base_uri": "https://localhost:8080/"
        },
        "id": "vumFBMFSQxX8",
        "outputId": "b6adc668-6ec8-41a3-f2b3-79b3605805e9"
      },
      "execution_count": 109,
      "outputs": [
        {
          "output_type": "stream",
          "name": "stdout",
          "text": [
            "1\n"
          ]
        }
      ]
    },
    {
      "cell_type": "code",
      "source": [
        "#Q15  Write a code to create a tuple containing three different fruits and check if \"kiwi\" is in it\n",
        "fruits=(\"kiwi\",\"banana\",\"mango\")\n",
        "if \"kiwi\" in fruits:\n",
        "  print(\"kiwi is in the tuple\")\n",
        "else:\n",
        "  print(\"kiwi is not in the tuple\")"
      ],
      "metadata": {
        "colab": {
          "base_uri": "https://localhost:8080/"
        },
        "id": "WwH0BqyDRNvh",
        "outputId": "6d607e09-bd94-455b-db6f-a31fe9c35b98"
      },
      "execution_count": 110,
      "outputs": [
        {
          "output_type": "stream",
          "name": "stdout",
          "text": [
            "kiwi is in the tuple\n"
          ]
        }
      ]
    },
    {
      "cell_type": "code",
      "source": [
        "#Q16  Write a code to create a set with the elements 'a', 'b', 'c' and print it\n",
        "s1={'a','b','c'}\n",
        "print(s1)\n",
        "type(s1)"
      ],
      "metadata": {
        "colab": {
          "base_uri": "https://localhost:8080/"
        },
        "id": "d4bCZDkYRhUR",
        "outputId": "d68c1e13-d95b-479e-dfb9-4afb9751126c"
      },
      "execution_count": 111,
      "outputs": [
        {
          "output_type": "stream",
          "name": "stdout",
          "text": [
            "{'b', 'c', 'a'}\n"
          ]
        },
        {
          "output_type": "execute_result",
          "data": {
            "text/plain": [
              "set"
            ]
          },
          "metadata": {},
          "execution_count": 111
        }
      ]
    },
    {
      "cell_type": "code",
      "source": [
        "#Q17 Write a code to clear all elements from the set {1, 2, 3, 4, 5}\n",
        "s2={1,2,3,4,5}\n",
        "print(s2.clear())\n",
        "print(s2)"
      ],
      "metadata": {
        "colab": {
          "base_uri": "https://localhost:8080/"
        },
        "id": "7c1Tz2d1R6GF",
        "outputId": "381040e5-bbd2-4219-b8b0-a293b571f9c7"
      },
      "execution_count": 112,
      "outputs": [
        {
          "output_type": "stream",
          "name": "stdout",
          "text": [
            "None\n",
            "set()\n"
          ]
        }
      ]
    },
    {
      "cell_type": "code",
      "source": [
        "#Q18  Write a code to remove the element 4 from the set {1, 2, 3, 4}\n",
        "s3={1,2,3,4}\n",
        "s3.remove(4)\n",
        "print(s3)"
      ],
      "metadata": {
        "colab": {
          "base_uri": "https://localhost:8080/"
        },
        "id": "-KrdnDMKSKrK",
        "outputId": "b77da91f-cb4d-44e6-c42d-c1f6d680db18"
      },
      "execution_count": 113,
      "outputs": [
        {
          "output_type": "stream",
          "name": "stdout",
          "text": [
            "{1, 2, 3}\n"
          ]
        }
      ]
    },
    {
      "cell_type": "code",
      "source": [
        "#Q19 Write a code to find the union of two sets {1, 2, 3} and {3, 4, 5}\n",
        "s1={1,2,3}\n",
        "s2={3,4,5}\n",
        "union_set=s1.union(s2)\n",
        "print(union_set)"
      ],
      "metadata": {
        "colab": {
          "base_uri": "https://localhost:8080/"
        },
        "id": "HhCTuB3mSdlc",
        "outputId": "1f869a53-703f-481b-e084-bbf55e26fe9c"
      },
      "execution_count": 114,
      "outputs": [
        {
          "output_type": "stream",
          "name": "stdout",
          "text": [
            "{1, 2, 3, 4, 5}\n"
          ]
        }
      ]
    },
    {
      "cell_type": "code",
      "source": [
        "#Q20 Write a code to find the intersection of two sets {1, 2, 3} and {2, 3, 4}.\n",
        "s1={1,2,3}\n",
        "s2={2,3,4}\n",
        "intersection_set=s1.intersection(s2)\n",
        "print(intersection_set)"
      ],
      "metadata": {
        "colab": {
          "base_uri": "https://localhost:8080/"
        },
        "id": "bxs9adooTDkW",
        "outputId": "aeec25f6-d5d4-41c3-ac42-f7ce66b8005b"
      },
      "execution_count": 115,
      "outputs": [
        {
          "output_type": "stream",
          "name": "stdout",
          "text": [
            "{2, 3}\n"
          ]
        }
      ]
    },
    {
      "cell_type": "code",
      "source": [
        "#Q21 Write a code to create a dictionary with the keys \"name\", \"age\", and \"city\", and print it\n",
        "info_dict={\"name\":\"emily\",\"age\":\"21\",\"city\":\"paris\"}\n",
        "print(info_dict)"
      ],
      "metadata": {
        "colab": {
          "base_uri": "https://localhost:8080/"
        },
        "id": "rdf0fffSTR6Y",
        "outputId": "76aaf298-c717-4924-8f53-57f29b5277fd"
      },
      "execution_count": 116,
      "outputs": [
        {
          "output_type": "stream",
          "name": "stdout",
          "text": [
            "{'name': 'emily', 'age': '21', 'city': 'paris'}\n"
          ]
        }
      ]
    },
    {
      "cell_type": "code",
      "source": [
        "#Q22  Write a code to add a new key-value pair \"country\": \"USA\" to the dictionary {'name': 'John', 'age': 25}\n",
        "info_dict={'name':'john','age':25}\n",
        "info_dict['country']='USA'\n",
        "print(info_dict)"
      ],
      "metadata": {
        "colab": {
          "base_uri": "https://localhost:8080/"
        },
        "id": "VlMqXyR8TvEO",
        "outputId": "3d627ee4-3e52-42d3-cef3-1a3700368791"
      },
      "execution_count": 117,
      "outputs": [
        {
          "output_type": "stream",
          "name": "stdout",
          "text": [
            "{'name': 'john', 'age': 25, 'country': 'USA'}\n"
          ]
        }
      ]
    },
    {
      "cell_type": "code",
      "source": [
        "#Q23 Write a code to access the value associated with the key \"name\" in the dictionary {'name': 'Alice', 'age': 30}\n",
        "dt={'name': 'Alice', 'age': 30}\n",
        "print(dt[\"name\"])"
      ],
      "metadata": {
        "colab": {
          "base_uri": "https://localhost:8080/"
        },
        "id": "vF6eU3MyUWEf",
        "outputId": "5f6d59bd-49e2-4a3b-cc4b-d6f013ca5243"
      },
      "execution_count": 118,
      "outputs": [
        {
          "output_type": "stream",
          "name": "stdout",
          "text": [
            "Alice\n"
          ]
        }
      ]
    },
    {
      "cell_type": "code",
      "source": [
        "#Q24 Write a code to remove the key \"age\" from the dictionary {'name': 'Bob', 'age': 22, 'city': 'New York'}\n",
        "d1={'name': 'Bob', 'age': 22, 'city': 'New York'}\n",
        "d1.pop('age')\n",
        "print(d1)"
      ],
      "metadata": {
        "colab": {
          "base_uri": "https://localhost:8080/"
        },
        "id": "fzGldEQOVIJU",
        "outputId": "15e74105-fc94-4ae2-d96b-1f7acfe3b51b"
      },
      "execution_count": 119,
      "outputs": [
        {
          "output_type": "stream",
          "name": "stdout",
          "text": [
            "{'name': 'Bob', 'city': 'New York'}\n"
          ]
        }
      ]
    },
    {
      "cell_type": "code",
      "source": [
        "#Q25 Write a code to check if the key \"city\" exists in the dictionary {'name': 'Alice', 'city': 'Paris'}\n",
        "d2={'name': 'Alice', 'city': 'Paris'}\n",
        "if 'city' in d2:\n",
        "  print(\"city key is in the dict\")\n",
        "else:\n",
        "  print(\"city key is not in the dict\")"
      ],
      "metadata": {
        "colab": {
          "base_uri": "https://localhost:8080/"
        },
        "id": "f7x4SqJMV9rH",
        "outputId": "e3bbfad4-3df4-4a9e-f71f-1e5902524ef7"
      },
      "execution_count": 120,
      "outputs": [
        {
          "output_type": "stream",
          "name": "stdout",
          "text": [
            "city key is in the dict\n"
          ]
        }
      ]
    },
    {
      "cell_type": "code",
      "source": [
        "#Q26  Write a code to create a list, a tuple, and a dictionary, and print them all\n",
        "l=[1,2.98,\"akshita\"]\n",
        "print(l,type(l))\n",
        "t=(34,\"yash\",6j+2)\n",
        "print(t,type(t))\n",
        "d={\"name\":\"yash\",\"age\":20,\"city\":\"paris\"}\n",
        "print(d,type(d))"
      ],
      "metadata": {
        "colab": {
          "base_uri": "https://localhost:8080/"
        },
        "id": "Cz24RnVYW2T0",
        "outputId": "63e19657-3ead-4bd0-91dd-21b23dfd014d"
      },
      "execution_count": 121,
      "outputs": [
        {
          "output_type": "stream",
          "name": "stdout",
          "text": [
            "[1, 2.98, 'akshita'] <class 'list'>\n",
            "(34, 'yash', (2+6j)) <class 'tuple'>\n",
            "{'name': 'yash', 'age': 20, 'city': 'paris'} <class 'dict'>\n"
          ]
        }
      ]
    },
    {
      "cell_type": "code",
      "source": [
        "#Q27 Write a code to create a list of 5 random numbers between 1 and 100, sort it in ascending order, and print the result.(replaced)\n",
        "l2=[73,25,2,99,46]\n",
        "l2.sort()\n",
        "print(l2)"
      ],
      "metadata": {
        "colab": {
          "base_uri": "https://localhost:8080/"
        },
        "id": "sipm3xzLXh21",
        "outputId": "f5cfe2e5-131a-48b8-c20c-47b4f940ffeb"
      },
      "execution_count": 122,
      "outputs": [
        {
          "output_type": "stream",
          "name": "stdout",
          "text": [
            "[2, 25, 46, 73, 99]\n"
          ]
        }
      ]
    },
    {
      "cell_type": "code",
      "source": [
        "#Q28  Write a code to create a list with strings and print the element at the third index\n",
        "l1=['apple','banana','kiwi','mango','melon']\n",
        "print(l1[3])"
      ],
      "metadata": {
        "colab": {
          "base_uri": "https://localhost:8080/"
        },
        "id": "ySwEVBbMYZjG",
        "outputId": "3695edd8-27cb-454b-afcc-4750f6dc7484"
      },
      "execution_count": 123,
      "outputs": [
        {
          "output_type": "stream",
          "name": "stdout",
          "text": [
            "mango\n"
          ]
        }
      ]
    },
    {
      "cell_type": "code",
      "source": [
        "#Q29 Write a code to combine two dictionaries into one and print the result\n",
        "d1={\"student1\":\"akshita\",\"branch1\":\"ece\"}\n",
        "d2={\"student2\":\"yash\",\"branch2\":\"cse\"}\n",
        "combo=d1 | d2\n",
        "print(combo)"
      ],
      "metadata": {
        "colab": {
          "base_uri": "https://localhost:8080/"
        },
        "id": "jzjIt527Ys03",
        "outputId": "07e538dc-85e7-4b3e-f4dd-392a2ffc089d"
      },
      "execution_count": 124,
      "outputs": [
        {
          "output_type": "stream",
          "name": "stdout",
          "text": [
            "{'student1': 'akshita', 'branch1': 'ece', 'student2': 'yash', 'branch2': 'cse'}\n"
          ]
        }
      ]
    },
    {
      "cell_type": "code",
      "source": [
        "#Q30  Write a code to convert a list of strings into a set\n",
        "del set\n",
        "mylist=['mango', 'banana', 'mango', 'muskelon']\n",
        "list_to_set= set(mylist)\n",
        "print(list_to_set)"
      ],
      "metadata": {
        "colab": {
          "base_uri": "https://localhost:8080/"
        },
        "id": "WgZ0IcZ7aMki",
        "outputId": "d608dd6c-80d1-4a96-ea2b-2c868d875039"
      },
      "execution_count": 128,
      "outputs": [
        {
          "output_type": "stream",
          "name": "stdout",
          "text": [
            "{'muskelon', 'mango', 'banana'}\n"
          ]
        }
      ]
    },
    {
      "cell_type": "code",
      "source": [],
      "metadata": {
        "id": "iNi_jN3hcGaX"
      },
      "execution_count": null,
      "outputs": []
    }
  ]
}